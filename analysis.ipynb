{
 "cells": [
  {
   "cell_type": "code",
   "execution_count": 1,
   "metadata": {},
   "outputs": [],
   "source": [
    "import pickle"
   ]
  },
  {
   "cell_type": "code",
   "execution_count": 2,
   "metadata": {},
   "outputs": [],
   "source": [
    "# Importing ndarray dictionaries from pickel file\n",
    "file_path = \"./data/mel_spectrogram_crop.pickle\"\n",
    "with open (file_path, 'rb') as f:\n",
    "    data = pickle.load(f)"
   ]
  },
  {
   "cell_type": "code",
   "execution_count": 3,
   "metadata": {},
   "outputs": [
    {
     "data": {
      "text/plain": [
       "dict"
      ]
     },
     "execution_count": 3,
     "metadata": {},
     "output_type": "execute_result"
    }
   ],
   "source": [
    "type(data)"
   ]
  },
  {
   "cell_type": "code",
   "execution_count": 4,
   "metadata": {},
   "outputs": [
    {
     "name": "stdout",
     "output_type": "stream",
     "text": [
      "(128, 25)\n",
      "(128, 28)\n",
      "(128, 15)\n",
      "(128, 11)\n",
      "(128, 31)\n",
      "(128, 28)\n",
      "(128, 32)\n",
      "(128, 36)\n",
      "(128, 22)\n",
      "(128, 18)\n",
      "(128, 28)\n",
      "(128, 25)\n",
      "(128, 39)\n",
      "(128, 27)\n",
      "(128, 18)\n",
      "(128, 21)\n",
      "(128, 30)\n",
      "(128, 23)\n",
      "(128, 22)\n",
      "(128, 20)\n",
      "(128, 24)\n",
      "(128, 34)\n",
      "(128, 40)\n",
      "(128, 38)\n",
      "(128, 17)\n",
      "(128, 13)\n",
      "(128, 37)\n",
      "(128, 16)\n",
      "(128, 13)\n",
      "(128, 32)\n",
      "(128, 19)\n",
      "(128, 19)\n",
      "(128, 13)\n",
      "(128, 26)\n",
      "(128, 27)\n",
      "(128, 20)\n",
      "(128, 30)\n",
      "(128, 39)\n",
      "(128, 19)\n",
      "(128, 30)\n",
      "(128, 21)\n",
      "(128, 18)\n",
      "(128, 18)\n",
      "(128, 20)\n",
      "(128, 20)\n",
      "(128, 20)\n",
      "(128, 32)\n",
      "(128, 18)\n",
      "(128, 28)\n",
      "(128, 15)\n",
      "(128, 16)\n",
      "(128, 24)\n",
      "(128, 14)\n",
      "(128, 34)\n",
      "(128, 15)\n",
      "(128, 35)\n",
      "(128, 17)\n",
      "(128, 28)\n",
      "(128, 13)\n",
      "(128, 22)\n",
      "(128, 16)\n",
      "(128, 24)\n",
      "(128, 16)\n",
      "(128, 18)\n",
      "(128, 17)\n",
      "(128, 15)\n",
      "(128, 34)\n",
      "(128, 21)\n",
      "(128, 25)\n",
      "(128, 13)\n",
      "(128, 17)\n",
      "(128, 6)\n",
      "(128, 34)\n",
      "(128, 36)\n",
      "(128, 29)\n",
      "(128, 15)\n",
      "(128, 14)\n",
      "(128, 9)\n",
      "(128, 29)\n",
      "(128, 32)\n",
      "(128, 17)\n",
      "(128, 22)\n",
      "(128, 25)\n",
      "(128, 17)\n",
      "(128, 24)\n",
      "(128, 31)\n",
      "(128, 20)\n",
      "(128, 29)\n",
      "(128, 32)\n",
      "(128, 16)\n",
      "(128, 20)\n",
      "(128, 19)\n",
      "(128, 18)\n",
      "(128, 29)\n",
      "(128, 14)\n",
      "(128, 39)\n",
      "(128, 10)\n",
      "(128, 14)\n",
      "(128, 10)\n",
      "(128, 28)\n",
      "(128, 32)\n",
      "(128, 27)\n",
      "(128, 15)\n",
      "(128, 36)\n",
      "(128, 35)\n",
      "(128, 21)\n",
      "(128, 16)\n",
      "(128, 40)\n",
      "(128, 34)\n",
      "(128, 34)\n",
      "(128, 16)\n",
      "(128, 18)\n",
      "(128, 15)\n",
      "(128, 15)\n",
      "(128, 17)\n",
      "(128, 14)\n",
      "(128, 23)\n",
      "(128, 19)\n",
      "(128, 17)\n",
      "(128, 14)\n",
      "(128, 14)\n",
      "(128, 11)\n",
      "(128, 28)\n",
      "(128, 35)\n",
      "(128, 32)\n",
      "(128, 35)\n",
      "(128, 39)\n",
      "(128, 17)\n",
      "(128, 34)\n",
      "(128, 30)\n",
      "(128, 31)\n",
      "(128, 39)\n",
      "(128, 24)\n",
      "(128, 17)\n",
      "(128, 25)\n",
      "(128, 30)\n",
      "(128, 15)\n",
      "(128, 22)\n",
      "(128, 18)\n",
      "(128, 18)\n",
      "(128, 15)\n",
      "(128, 10)\n",
      "(128, 38)\n",
      "(128, 39)\n",
      "(128, 20)\n",
      "(128, 20)\n",
      "(128, 10)\n",
      "(128, 39)\n",
      "(128, 35)\n",
      "(128, 17)\n",
      "(128, 36)\n",
      "(128, 30)\n",
      "(128, 15)\n",
      "(128, 19)\n",
      "(128, 30)\n",
      "(128, 21)\n",
      "(128, 28)\n",
      "(128, 40)\n",
      "(128, 29)\n",
      "(128, 13)\n",
      "(128, 9)\n",
      "(128, 11)\n",
      "(128, 29)\n",
      "(128, 33)\n",
      "(128, 21)\n",
      "(128, 19)\n",
      "(128, 14)\n",
      "(128, 15)\n",
      "(128, 32)\n",
      "(128, 39)\n",
      "(128, 37)\n",
      "(128, 19)\n",
      "(128, 32)\n",
      "(128, 35)\n",
      "(128, 18)\n",
      "(128, 39)\n",
      "(128, 27)\n",
      "(128, 28)\n",
      "(128, 39)\n",
      "(128, 20)\n",
      "(128, 24)\n",
      "(128, 18)\n",
      "(128, 27)\n",
      "(128, 24)\n",
      "(128, 20)\n",
      "(128, 19)\n",
      "(128, 18)\n",
      "(128, 27)\n",
      "(128, 11)\n",
      "(128, 19)\n",
      "(128, 39)\n",
      "(128, 30)\n",
      "(128, 35)\n",
      "(128, 11)\n",
      "(128, 18)\n",
      "(128, 25)\n",
      "(128, 15)\n",
      "(128, 13)\n",
      "(128, 26)\n",
      "(128, 30)\n",
      "(128, 14)\n",
      "(128, 19)\n",
      "(128, 32)\n",
      "(128, 20)\n",
      "(128, 20)\n",
      "(128, 17)\n",
      "(128, 13)\n",
      "(128, 13)\n",
      "(128, 32)\n",
      "(128, 23)\n",
      "(128, 14)\n",
      "(128, 32)\n",
      "(128, 38)\n",
      "(128, 14)\n",
      "(128, 21)\n",
      "(128, 39)\n",
      "(128, 35)\n",
      "(128, 16)\n",
      "(128, 20)\n",
      "(128, 33)\n",
      "(128, 22)\n",
      "(128, 28)\n",
      "(128, 23)\n",
      "(128, 35)\n",
      "(128, 33)\n",
      "(128, 40)\n",
      "(128, 29)\n",
      "(128, 22)\n",
      "(128, 23)\n",
      "(128, 25)\n",
      "(128, 25)\n",
      "(128, 23)\n",
      "(128, 22)\n",
      "(128, 35)\n",
      "(128, 24)\n",
      "(128, 29)\n",
      "(128, 22)\n",
      "(128, 15)\n",
      "(128, 18)\n",
      "(128, 16)\n"
     ]
    }
   ],
   "source": [
    "for num, num_vec in data.items():\n",
    "    for vec in num_vec:\n",
    "        print(vec.shape)"
   ]
  },
  {
   "cell_type": "code",
   "execution_count": 5,
   "metadata": {},
   "outputs": [],
   "source": [
    "\n",
    "import numpy as np\n",
    "from sklearn.model_selection import train_test_split"
   ]
  },
  {
   "cell_type": "code",
   "execution_count": 6,
   "metadata": {},
   "outputs": [],
   "source": [
    "# Flatten the arrays to feed to SVM model\n",
    "# true data has 286 list elements and each elememt is a numpy ndarray of size (128,41)\n",
    "X = [vec.flatten() for num, num_vec in data.items() for vec in num_vec]\n",
    "y = np.array([num for num, num_vec in data.items() for vec in num_vec], dtype = np.float32)"
   ]
  },
  {
   "cell_type": "code",
   "execution_count": 7,
   "metadata": {},
   "outputs": [
    {
     "data": {
      "text/plain": [
       "240"
      ]
     },
     "execution_count": 7,
     "metadata": {},
     "output_type": "execute_result"
    }
   ],
   "source": [
    "len(y)"
   ]
  },
  {
   "cell_type": "code",
   "execution_count": 8,
   "metadata": {},
   "outputs": [],
   "source": [
    "# Split data into training and testing sets\n",
    "X_train, X_test, y_train, y_test = train_test_split(X, y, test_size=0.2, random_state=42)\n"
   ]
  },
  {
   "cell_type": "code",
   "execution_count": 9,
   "metadata": {},
   "outputs": [],
   "source": [
    "from sklearn.svm import SVC\n",
    "from sklearn.pipeline import make_pipeline\n",
    "from sklearn.preprocessing import StandardScaler"
   ]
  },
  {
   "cell_type": "code",
   "execution_count": null,
   "metadata": {},
   "outputs": [],
   "source": [
    "clf  = make_pipeline(StandardScaler(),SVC(kernel='linear', C=12, decision_function_shape='ovr'))\n",
    "clf.fit(X_train, y_train)"
   ]
  },
  {
   "cell_type": "code",
   "execution_count": 10,
   "metadata": {},
   "outputs": [],
   "source": [
    "from sklearn.metrics import f1_score\n",
    "from sklearn.metrics import confusion_matrix, classification_report\n",
    "import matplotlib.pyplot as plt\n",
    "import seaborn as sns"
   ]
  },
  {
   "cell_type": "code",
   "execution_count": 19,
   "metadata": {},
   "outputs": [
    {
     "data": {
      "image/png": "[encoded data removed]",
      "text/plain": [
       "<Figure size 800x600 with 2 Axes>"
      ]
     },
     "metadata": {},
     "output_type": "display_data"
    },
    {
     "name": "stdout",
     "output_type": "stream",
     "text": [
      "              precision    recall  f1-score   support\n",
      "\n",
      "           0       0.25      0.60      0.35         5\n",
      "           1       0.44      0.57      0.50         7\n",
      "           2       0.20      0.33      0.25         6\n",
      "           3       0.50      0.50      0.50         4\n",
      "           4       0.25      0.50      0.33         2\n",
      "           5       0.00      0.00      0.00         5\n",
      "           6       0.50      0.29      0.36         7\n",
      "           7       0.20      0.11      0.14         9\n",
      "           8       0.33      0.33      0.33         6\n",
      "           9       0.50      0.14      0.22         7\n",
      "\n",
      "    accuracy                           0.31        58\n",
      "   macro avg       0.32      0.34      0.30        58\n",
      "weighted avg       0.33      0.31      0.29        58\n",
      "\n"
     ]
    }
   ],
   "source": [
    "# Evaluate model\n",
    "y_pred = clf.predict(X_test)\n",
    "accuracy = f1_score(y_test, y_pred, average='weighted')\n",
    "conf_matrix = confusion_matrix(y_test, y_pred)\n",
    "\n",
    "# Create a confusion matrix\n",
    "cm = confusion_matrix(y_test, y_pred)\n",
    "plt.figure(figsize=(8, 6))\n",
    "sns.heatmap(cm, annot=True, cmap='Blues', fmt='g')\n",
    "plt.xlabel('Predicted Labels')\n",
    "plt.ylabel('True Labels')\n",
    "plt.show()\n",
    "\n",
    "# Create a classification report\n",
    "target_names = ['0', '1', '2', '3', '4', '5', '6', '7', '8', '9'] # replace with your actual class names\n",
    "print(classification_report(y_test, y_pred, target_names=target_names))"
   ]
  },
  {
   "cell_type": "code",
   "execution_count": null,
   "metadata": {},
   "outputs": [],
   "source": []
  }
 ],
 "metadata": {
  "kernelspec": {
   "display_name": "Python 3",
   "language": "python",
   "name": "python3"
  },
  "language_info": {
   "codemirror_mode": {
    "name": "ipython",
    "version": 3
   },
   "file_extension": ".py",
   "mimetype": "text/x-python",
   "name": "python",
   "nbconvert_exporter": "python",
   "pygments_lexer": "ipython3",
   "version": "3.9.16"
  },
  "orig_nbformat": 4
 },
 "nbformat": 4,
 "nbformat_minor": 2
}
