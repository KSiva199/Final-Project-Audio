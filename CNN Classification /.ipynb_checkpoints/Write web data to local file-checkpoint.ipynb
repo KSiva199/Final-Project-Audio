{
 "cells": [
  {
   "cell_type": "markdown",
   "metadata": {},
   "source": []
  },
  {
   "cell_type": "code",
   "execution_count": null,
   "metadata": {
    "pycharm": {
     "is_executing": true
    }
   },
   "outputs": [],
   "source": [
    "import requests\n",
    "from bs4 import BeautifulSoup"
   ]
  },
  {
   "cell_type": "code",
   "execution_count": null,
   "metadata": {
    "collapsed": true
   },
   "outputs": [],
   "source": [
    "#web scrape\n",
    "def get_video_links(archive_url):\n",
    "\n",
    "\tr = requests.get(archive_url)\n",
    "\tsoup = BeautifulSoup(r.content,'html.parser')\n",
    "\tlinks = soup.findAll('a')\n",
    "\tvideo_links = [archive_url + link['href'] for link in links if link['href'].endswith('wav')]\n",
    "\treturn video_links\n",
    "\n",
    "\n",
    "def download_video_series(video_links, number):\n",
    "\tdirectory_path = f\"./audio/{number}/\"\n",
    "\n",
    "\tfor link in video_links:\n",
    "\t\tfile_name = f\"{directory_path}{link.split('/')[-1]}\"\n",
    "\n",
    "\t\tprint( \"Downloading file:%s\"%file_name)\n",
    "\t\tr = requests.get(link, stream = True)\n",
    "\t\twith open(file_name, 'wb') as f:\n",
    "\t\t\tfor chunk in r.iter_content(chunk_size = 1024*1024):\n",
    "\t\t\t\tif chunk:\n",
    "\t\t\t\t\tf.write(chunk)\n",
    "\n",
    "\t\tprint( \"%s downloaded!\\n\"%file_name )\n",
    "\n",
    "\tprint (\"All videos downloaded!\")\n",
    "\treturn"
   ]
  },
  {
   "cell_type": "code",
   "execution_count": null,
   "metadata": {},
   "outputs": [],
   "source": [
    "for i in range(10):\n",
    "\tarchive_url = f\"https://clarksonmsda.org/ml/audio2/data/numbers/{i}/\"\n",
    "\n",
    "\tvideo_links = get_video_links(archive_url)\n",
    "\n",
    "\tdownload_video_series(video_links, i)\n"
   ]
  },
  {
   "cell_type": "code",
   "execution_count": null,
   "metadata": {
    "pycharm": {
     "is_executing": true
    }
   },
   "outputs": [],
   "source": [
    "import os"
   ]
  },
  {
   "cell_type": "code",
   "execution_count": null,
   "metadata": {},
   "outputs": [],
   "source": [
    "# Remove files\n",
    "for i in range(10):\n",
    "    file_path = f\"./audio/{i}/.DS_Store\"\n",
    "\n",
    "    # Check if the file exists\n",
    "    if os.path.exists(file_path):\n",
    "        # Remove the file\n",
    "        os.remove(file_path)\n",
    "        print(f\"File {file_path} removed successfully\")\n",
    "    else:\n",
    "        print(f\"File {file_path} not found\")"
   ]
  },
  {
   "cell_type": "code",
   "execution_count": null,
   "metadata": {},
   "outputs": [],
   "source": [
    "import sounddevice as sd\n",
    "import soundfile as sf"
   ]
  },
  {
   "cell_type": "code",
   "execution_count": null,
   "metadata": {},
   "outputs": [],
   "source": [
    "# # Remove bad audio files\n",
    "\n",
    "for folder in range(10):\n",
    "    audio_list = os.listdir(f\"./audio/{folder}/\")\n",
    "\n",
    "    for i,file_name in enumerate(audio_list):\n",
    "        file_path =f\"./audio/{folder}/{file_name}\"\n",
    "\n",
    "\n",
    "        # Load the audio file using SoundFile\n",
    "        data, sample_rate = sf.read(file_path, dtype='float32')\n",
    "\n",
    "        # Play the audio using SoundDevice\n",
    "        sd.play(data, sample_rate, blocking=True)\n",
    "        # sd.wait()\n",
    "\n",
    "         # Prompt the user to delete the file\n",
    "        delete_file = True\n",
    "        while delete_file:\n",
    "            answer = input(f\"Do you want to delete {file_name}? (y/n) \")\n",
    "            if answer == 'y':\n",
    "                # Delete the audio file\n",
    "                os.remove(file_path)\n",
    "                print(f\"File {file_name} removed successfully.\")\n",
    "                delete_file = False\n",
    "            elif answer == 'n':\n",
    "                print(f\"File {file_name} not removed.\")\n",
    "                delete_file = False"
   ]
  }
 ],
 "metadata": {
  "kernelspec": {
   "display_name": "Python 3 (ipykernel)",
   "language": "python",
   "name": "python3"
  },
  "language_info": {
   "codemirror_mode": {
    "name": "ipython",
    "version": 2
   },
   "file_extension": ".py",
   "mimetype": "text/x-python",
   "name": "python",
   "nbconvert_exporter": "python",
   "pygments_lexer": "ipython2",
   "version": "2.7.6"
  }
 },
 "nbformat": 4,
 "nbformat_minor": 1
}
