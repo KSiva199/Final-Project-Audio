{
 "cells": [
  {
   "cell_type": "code",
   "execution_count": null,
   "metadata": {},
   "outputs": [],
   "source": [
    "#Web Scrape\n",
    "import librosa as librosa\n",
    "import numpy as np\n",
    "from matplotlib import pyplot as plt\n",
    "import os\n",
    "import requests\n",
    "from bs4 import BeautifulSoup\n",
    "def get_video_links(archive_url):\n",
    "\n",
    "\tr = requests.get(archive_url)\n",
    "\tsoup = BeautifulSoup(r.content,'html.parser')\n",
    "\tlinks = soup.findAll('a')\n",
    "\tvideo_links = [archive_url + link['href'] for link in links if link['href'].endswith('wav')]\n",
    "\treturn video_links\n",
    "\n",
    "\n",
    "def download_video_series(video_links, number):\n",
    "\tdirectory_path = f\"./audio/{number}/\"\n",
    "\n",
    "\tfor link in video_links:\n",
    "\t\tfile_name = f\"{directory_path}{link.split('/')[-1]}\"\n",
    "\n",
    "\t\tprint( \"Downloading file:%s\"%file_name)\n",
    "\t\tr = requests.get(link, stream = True)\n",
    "\t\twith open(file_name, 'wb') as f:\n",
    "\t\t\tfor chunk in r.iter_content(chunk_size = 1024*1024):\n",
    "\t\t\t\tif chunk:\n",
    "\t\t\t\t\tf.write(chunk)\n",
    "\n",
    "\t\tprint( \"%s downloaded!\\n\"%file_name )\n",
    "\n",
    "\tprint (\"All videos downloaded!\")\n",
    "\treturn\n",
    "for i in range(10):\n",
    "\tarchive_url = f\"https://clarksonmsda.org/ml/audio2/data/numbers/{i}/\"\n",
    "\n",
    "\tvideo_links = get_video_links(archive_url)\n",
    "\n",
    "\tdownload_video_series(video_links, i)"
   ]
  },
  {
   "cell_type": "code",
   "execution_count": null,
   "metadata": {},
   "outputs": [],
   "source": [
    "#WaveShow\n",
    "import librosa as librosa\n",
    "import os\n",
    "path = \"/Users/ksr/Machine Learning/Final Project Audio/audio/4\"\n",
    "y,sr=librosa.load('audio/0/american_f_Alexa_20230406110149.wav',sr=32000)\n",
    "librosa.display.waveshow(y,sr=sr,color='black')\n",
    "sr"
   ]
  },
  {
   "cell_type": "code",
   "execution_count": null,
   "metadata": {},
   "outputs": [],
   "source": [
    "#Wave vs Spectrogram\n",
    "import librosa as librosa\n",
    "import numpy as np\n",
    "from matplotlib import pyplot as plt\n",
    "import os\n",
    "path = \"/Users/ksr/Machine Learning/Final Project Audio/audio/0\"\n",
    "dir_list = os.listdir(path)\n",
    "spectrograms = []\n",
    "waveforms = []\n",
    "for file in dir_list:\n",
    "    actual='audio/0/'+file\n",
    "    y, sr = librosa.load(actual)\n",
    "    waveforms.append(y)\n",
    "    spectrogram = librosa.stft(y)\n",
    "    spectrograms.append(spectrogram)\n",
    "for i, (waveform, spectrogram) in enumerate(zip(waveforms, spectrograms)):\n",
    "    plt.figure(figsize=(10, 8))\n",
    "    \n",
    "    # plot waveform\n",
    "    plt.subplot(211)\n",
    "    librosa.display.waveshow(waveform, sr=sr)\n",
    "    plt.title(f'Waveform for {dir_list[i]}')\n",
    "    \n",
    "    # plot spectrogram\n",
    "    plt.subplot(212)\n",
    "    librosa.display.specshow(librosa.amplitude_to_db(np.abs(spectrogram), ref=np.max),\n",
    "                                y_axis='linear', x_axis='time') \n",
    "    plt.title(f'Spectrogram for {dir_list[i]}')\n",
    "    plt.colorbar(format='%+2.0f dB')\n",
    "    \n",
    "    plt.tight_layout()\n",
    "    plt.show()\n"
   ]
  },
  {
   "cell_type": "code",
   "execution_count": null,
   "metadata": {},
   "outputs": [],
   "source": [
    "#Mel-Spectrogram\n",
    "import librosa as librosa\n",
    "import numpy as np\n",
    "from matplotlib import pyplot as plt\n",
    "import os\n",
    "path = \"/Users/ksr/Machine Learning/Final Project Audio/audio/0\"\n",
    "dir_list = os.listdir(path)\n",
    "spectrograms = []\n",
    "waveforms = []\n",
    "mel_spectrogram=[]\n",
    "for i,file in enumerate(dir_list):\n",
    "    actual='audio/0/'+file\n",
    "    y, sr = librosa.load(actual)\n",
    "    waveforms.append(y)\n",
    "    spectrogram = librosa.stft(y)\n",
    "    spectrograms.append(spectrogram)\n",
    "    S=librosa.feature.melspectrogram(y=y,sr=sr,n_mels=128,)\n",
    "    s_db_mel=librosa.amplitude_to_db(S, ref=np.max)\n",
    "    mel_spectrogram.append(s_db_mel)\n",
    "    plt.figure(figsize=(14,5))\n",
    "    img=librosa.display.specshow(s_db_mel,sr=sr,x_axis='s',y_axis='linear')\n",
    "    plt.title(f'Mel Spectrogram for {dir_list[i]}')\n",
    "    plt.colorbar()\n",
    "    print(s_db_mel.shape)"
   ]
  },
  {
   "cell_type": "code",
   "execution_count": 1,
   "metadata": {},
   "outputs": [
    {
     "data": {
      "image/png": "[encoded data removed]",
      "text/plain": [
       "<Figure size 432x288 with 1 Axes>"
      ]
     },
     "metadata": {
      "needs_background": "light"
     },
     "output_type": "display_data"
    },
    {
     "data": {
      "text/plain": [
       "197"
      ]
     },
     "execution_count": 1,
     "metadata": {},
     "output_type": "execute_result"
    }
   ],
   "source": [
    "# PCA and SVM\n",
    "\n",
    "import pickle\n",
    "import pandas as pd\n",
    "import numpy as np \n",
    "from matplotlib import pyplot as plt\n",
    "features=[]\n",
    "target=[]\n",
    "with open(\"data/mel_spectrograms.pickle\", \"rb\") as f:\n",
    "    data = pickle.load(f)\n",
    "    for j in range(0,len(data)):\n",
    "        for i in range(0,len(data[j])): \n",
    "            features.append(data[j][i].flatten())\n",
    "            target.append(j)\n",
    "features_df=pd.DataFrame(features)\n",
    "features_df.fillna(0,inplace=True)\n",
    "from sklearn.preprocessing import StandardScaler\n",
    "scaler=StandardScaler()\n",
    "scaled=scaler.fit_transform(features_df)\n",
    "from sklearn.decomposition import PCA\n",
    "pca = PCA(0.99)\n",
    "pca.fit(scaled)\n",
    "pca_data = pca.transform(scaled)\n",
    "per_var = np.round(pca.explained_variance_ratio_* 100,decimals=1)\n",
    "labels = ['PC' + str(x) for x in range(1, len(per_var) + 1)]\n",
    "\n",
    "plt.bar(x = range(1,len(per_var)+1),height=per_var,tick_label = labels)\n",
    "plt.ylabel('Percentage')\n",
    "plt.xlabel('Principal comp')\n",
    "plt.title('Scree plt')\n",
    "plt.show()\n",
    "pca.n_components_"
   ]
  },
  {
   "cell_type": "code",
   "execution_count": 2,
   "metadata": {},
   "outputs": [
    {
     "data": {
      "image/png": "[encoded data removed]",
      "text/plain": [
       "<Figure size 432x288 with 2 Axes>"
      ]
     },
     "metadata": {
      "needs_background": "light"
     },
     "output_type": "display_data"
    },
    {
     "name": "stdout",
     "output_type": "stream",
     "text": [
      "Accuracy: 27.08%\n"
     ]
    }
   ],
   "source": [
    "from sklearn.model_selection import train_test_split\n",
    "from sklearn.metrics import confusion_matrix\n",
    "import seaborn as sb\n",
    "from sklearn.metrics import accuracy_score\n",
    "X_train,X_test,y_train,y_test=train_test_split(scaled,target,test_size=0.2)\n",
    "from sklearn.svm import SVC \n",
    "model=SVC(C=500,kernel='rbf')\n",
    "model.fit(X_train,y_train)\n",
    "y_pred=model.predict(X_test)\n",
    "model.score(X_test,y_test)\n",
    "cm=confusion_matrix(y_test,y_pred)\n",
    "sb.heatmap(cm,annot=True)\n",
    "plt.xlabel('Predicted')\n",
    "plt.ylabel('Actual')\n",
    "plt.show()\n",
    "accuracy = accuracy_score(y_test, y_pred)\n",
    "print(f\"Accuracy: {accuracy * 100:.2f}%\")"
   ]
  }
 ],
 "metadata": {
  "kernelspec": {
   "display_name": "Python 3",
   "language": "python",
   "name": "python3"
  },
  "language_info": {
   "codemirror_mode": {
    "name": "ipython",
    "version": 3
   },
   "file_extension": ".py",
   "mimetype": "text/x-python",
   "name": "python",
   "nbconvert_exporter": "python",
   "pygments_lexer": "ipython3",
   "version": "3.10.2"
  },
  "orig_nbformat": 4
 },
 "nbformat": 4,
 "nbformat_minor": 2
}
