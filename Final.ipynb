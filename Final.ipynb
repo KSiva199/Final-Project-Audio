{
 "cells": [
  {
   "cell_type": "code",
   "execution_count": null,
   "metadata": {},
   "outputs": [],
   "source": [
    "#Web Scrape\n",
    "def get_video_links(archive_url):\n",
    "\n",
    "\tr = requests.get(archive_url)\n",
    "\tsoup = BeautifulSoup(r.content,'html.parser')\n",
    "\tlinks = soup.findAll('a')\n",
    "\tvideo_links = [archive_url + link['href'] for link in links if link['href'].endswith('wav')]\n",
    "\treturn video_links\n",
    "\n",
    "\n",
    "def download_video_series(video_links, number):\n",
    "\tdirectory_path = f\"./audio/{number}/\"\n",
    "\n",
    "\tfor link in video_links:\n",
    "\t\tfile_name = f\"{directory_path}{link.split('/')[-1]}\"\n",
    "\n",
    "\t\tprint( \"Downloading file:%s\"%file_name)\n",
    "\t\tr = requests.get(link, stream = True)\n",
    "\t\twith open(file_name, 'wb') as f:\n",
    "\t\t\tfor chunk in r.iter_content(chunk_size = 1024*1024):\n",
    "\t\t\t\tif chunk:\n",
    "\t\t\t\t\tf.write(chunk)\n",
    "\n",
    "\t\tprint( \"%s downloaded!\\n\"%file_name )\n",
    "\n",
    "\tprint (\"All videos downloaded!\")\n",
    "\treturn\n",
    "for i in range(10):\n",
    "\tarchive_url = f\"https://clarksonmsda.org/ml/audio2/data/numbers/{i}/\"\n",
    "\n",
    "\tvideo_links = get_video_links(archive_url)\n",
    "\n",
    "\tdownload_video_series(video_links, i)"
   ]
  },
  {
   "cell_type": "code",
   "execution_count": null,
   "metadata": {},
   "outputs": [],
   "source": [
    "Wave"
   ]
  },
  {
   "attachments": {},
   "cell_type": "markdown",
   "metadata": {},
   "source": [
    "Spectrogram"
   ]
  },
  {
   "attachments": {},
   "cell_type": "markdown",
   "metadata": {},
   "source": [
    "Mel-Spectrogram "
   ]
  },
  {
   "attachments": {},
   "cell_type": "markdown",
   "metadata": {},
   "source": [
    "Nipuni: CNN (45%). Direct SVM.\n",
    "Siva: PCA then SVM.\n"
   ]
  }
 ],
 "metadata": {
  "language_info": {
   "name": "python"
  },
  "orig_nbformat": 4
 },
 "nbformat": 4,
 "nbformat_minor": 2
}
